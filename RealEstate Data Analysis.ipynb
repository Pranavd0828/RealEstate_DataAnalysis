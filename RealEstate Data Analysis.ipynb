{
 "cells": [
  {
   "cell_type": "code",
   "execution_count": 1,
   "metadata": {},
   "outputs": [],
   "source": [
    "import pandas as pd\n",
    "import numpy as np\n",
    "\n",
    "import seaborn as sns\n",
    "import matplotlib.pyplot as plt\n",
    "from sklearn.preprocessing import MinMaxScaler\n",
    "from sklearn.model_selection import train_test_split\n",
    "\n",
    "from sklearn.model_selection import GridSearchCV\n",
    "from sklearn.linear_model import Ridge\n",
    "from sklearn.linear_model import Lasso\n",
    "import statsmodels.api as sm\n",
    "from sklearn.linear_model import LinearRegression\n",
    "from sklearn import metrics\n",
    "\n",
    "from warnings import filterwarnings\n",
    "filterwarnings('ignore')"
   ]
  },
  {
   "cell_type": "code",
   "execution_count": 2,
   "metadata": {},
   "outputs": [],
   "source": [
    "df = pd.read_csv(\"Van_RealEstate_Data.csv\").drop([\"Unnamed: 0\", \"Property Address\"], axis = 1)"
   ]
  },
  {
   "cell_type": "code",
   "execution_count": 3,
   "metadata": {},
   "outputs": [
    {
     "data": {
      "text/html": [
       "<div>\n",
       "<style scoped>\n",
       "    .dataframe tbody tr th:only-of-type {\n",
       "        vertical-align: middle;\n",
       "    }\n",
       "\n",
       "    .dataframe tbody tr th {\n",
       "        vertical-align: top;\n",
       "    }\n",
       "\n",
       "    .dataframe thead th {\n",
       "        text-align: right;\n",
       "    }\n",
       "</style>\n",
       "<table border=\"1\" class=\"dataframe\">\n",
       "  <thead>\n",
       "    <tr style=\"text-align: right;\">\n",
       "      <th></th>\n",
       "      <th>Measurements</th>\n",
       "      <th>Listing Price</th>\n",
       "    </tr>\n",
       "  </thead>\n",
       "  <tbody>\n",
       "    <tr>\n",
       "      <th>0</th>\n",
       "      <td>4 bd|2 ba|1916 sf|30 x 103 ft</td>\n",
       "      <td>$1,399,000</td>\n",
       "    </tr>\n",
       "    <tr>\n",
       "      <th>1</th>\n",
       "      <td>6 bd|4 ba|1978 sf|31 x 105 ft</td>\n",
       "      <td>$1,598,000</td>\n",
       "    </tr>\n",
       "    <tr>\n",
       "      <th>2</th>\n",
       "      <td>6 bd|4 ba|2552 sf|42 x 118 ft</td>\n",
       "      <td>$1,299,000</td>\n",
       "    </tr>\n",
       "    <tr>\n",
       "      <th>3</th>\n",
       "      <td>7 bd|4 ba|2703 sf|116 x 33 ft</td>\n",
       "      <td>$1,799,000</td>\n",
       "    </tr>\n",
       "    <tr>\n",
       "      <th>4</th>\n",
       "      <td>4 bd|3 ba|1979 sf|47 x 135 ft</td>\n",
       "      <td>$2,999,000</td>\n",
       "    </tr>\n",
       "  </tbody>\n",
       "</table>\n",
       "</div>"
      ],
      "text/plain": [
       "                    Measurements Listing Price\n",
       "0  4 bd|2 ba|1916 sf|30 x 103 ft    $1,399,000\n",
       "1  6 bd|4 ba|1978 sf|31 x 105 ft    $1,598,000\n",
       "2  6 bd|4 ba|2552 sf|42 x 118 ft    $1,299,000\n",
       "3  7 bd|4 ba|2703 sf|116 x 33 ft    $1,799,000\n",
       "4  4 bd|3 ba|1979 sf|47 x 135 ft    $2,999,000"
      ]
     },
     "execution_count": 3,
     "metadata": {},
     "output_type": "execute_result"
    }
   ],
   "source": [
    "df.head()"
   ]
  },
  {
   "cell_type": "code",
   "execution_count": 4,
   "metadata": {},
   "outputs": [],
   "source": [
    "df_x = df[\"Measurements\"].str.split(\"|\", n = 4, expand = True)"
   ]
  },
  {
   "cell_type": "code",
   "execution_count": 5,
   "metadata": {},
   "outputs": [],
   "source": [
    "df_final = pd.concat([df_x, df], axis = 1)"
   ]
  },
  {
   "cell_type": "code",
   "execution_count": 6,
   "metadata": {},
   "outputs": [
    {
     "data": {
      "text/html": [
       "<div>\n",
       "<style scoped>\n",
       "    .dataframe tbody tr th:only-of-type {\n",
       "        vertical-align: middle;\n",
       "    }\n",
       "\n",
       "    .dataframe tbody tr th {\n",
       "        vertical-align: top;\n",
       "    }\n",
       "\n",
       "    .dataframe thead th {\n",
       "        text-align: right;\n",
       "    }\n",
       "</style>\n",
       "<table border=\"1\" class=\"dataframe\">\n",
       "  <thead>\n",
       "    <tr style=\"text-align: right;\">\n",
       "      <th></th>\n",
       "      <th>0</th>\n",
       "      <th>1</th>\n",
       "      <th>2</th>\n",
       "      <th>3</th>\n",
       "      <th>Measurements</th>\n",
       "      <th>Listing Price</th>\n",
       "    </tr>\n",
       "  </thead>\n",
       "  <tbody>\n",
       "    <tr>\n",
       "      <th>0</th>\n",
       "      <td>4 bd</td>\n",
       "      <td>2 ba</td>\n",
       "      <td>1916 sf</td>\n",
       "      <td>30 x 103 ft</td>\n",
       "      <td>4 bd|2 ba|1916 sf|30 x 103 ft</td>\n",
       "      <td>$1,399,000</td>\n",
       "    </tr>\n",
       "    <tr>\n",
       "      <th>1</th>\n",
       "      <td>6 bd</td>\n",
       "      <td>4 ba</td>\n",
       "      <td>1978 sf</td>\n",
       "      <td>31 x 105 ft</td>\n",
       "      <td>6 bd|4 ba|1978 sf|31 x 105 ft</td>\n",
       "      <td>$1,598,000</td>\n",
       "    </tr>\n",
       "    <tr>\n",
       "      <th>2</th>\n",
       "      <td>6 bd</td>\n",
       "      <td>4 ba</td>\n",
       "      <td>2552 sf</td>\n",
       "      <td>42 x 118 ft</td>\n",
       "      <td>6 bd|4 ba|2552 sf|42 x 118 ft</td>\n",
       "      <td>$1,299,000</td>\n",
       "    </tr>\n",
       "    <tr>\n",
       "      <th>3</th>\n",
       "      <td>7 bd</td>\n",
       "      <td>4 ba</td>\n",
       "      <td>2703 sf</td>\n",
       "      <td>116 x 33 ft</td>\n",
       "      <td>7 bd|4 ba|2703 sf|116 x 33 ft</td>\n",
       "      <td>$1,799,000</td>\n",
       "    </tr>\n",
       "    <tr>\n",
       "      <th>4</th>\n",
       "      <td>4 bd</td>\n",
       "      <td>3 ba</td>\n",
       "      <td>1979 sf</td>\n",
       "      <td>47 x 135 ft</td>\n",
       "      <td>4 bd|3 ba|1979 sf|47 x 135 ft</td>\n",
       "      <td>$2,999,000</td>\n",
       "    </tr>\n",
       "  </tbody>\n",
       "</table>\n",
       "</div>"
      ],
      "text/plain": [
       "      0     1        2            3                   Measurements  \\\n",
       "0  4 bd  2 ba  1916 sf  30 x 103 ft  4 bd|2 ba|1916 sf|30 x 103 ft   \n",
       "1  6 bd  4 ba  1978 sf  31 x 105 ft  6 bd|4 ba|1978 sf|31 x 105 ft   \n",
       "2  6 bd  4 ba  2552 sf  42 x 118 ft  6 bd|4 ba|2552 sf|42 x 118 ft   \n",
       "3  7 bd  4 ba  2703 sf  116 x 33 ft  7 bd|4 ba|2703 sf|116 x 33 ft   \n",
       "4  4 bd  3 ba  1979 sf  47 x 135 ft  4 bd|3 ba|1979 sf|47 x 135 ft   \n",
       "\n",
       "  Listing Price  \n",
       "0    $1,399,000  \n",
       "1    $1,598,000  \n",
       "2    $1,299,000  \n",
       "3    $1,799,000  \n",
       "4    $2,999,000  "
      ]
     },
     "execution_count": 6,
     "metadata": {},
     "output_type": "execute_result"
    }
   ],
   "source": [
    "df_final.head()"
   ]
  },
  {
   "cell_type": "code",
   "execution_count": 7,
   "metadata": {},
   "outputs": [],
   "source": [
    "df_final = df_final.rename(columns = {0:\"Bedrooms\", 1:\"Bathrooms\", 2:\"House_Size\", 3:\"Lot_Size\"})"
   ]
  },
  {
   "cell_type": "code",
   "execution_count": 8,
   "metadata": {},
   "outputs": [],
   "source": [
    "df_final = df_final.drop(\"Measurements\", axis = 1)"
   ]
  },
  {
   "cell_type": "code",
   "execution_count": 9,
   "metadata": {},
   "outputs": [],
   "source": [
    "df_final[\"Bedrooms\"] = df_final[\"Bedrooms\"].str.replace(\" bd\", \"\")\n",
    "df_final[\"Bathrooms\"] = df_final[\"Bathrooms\"].str.replace(\" ba\", \"\")\n",
    "df_final[\"House_Size\"] = df_final[\"House_Size\"].str.replace(\" sf\", \"\")\n",
    "df_final[\"Lot_Size\"] = df_final[\"Lot_Size\"].str.replace(\" ft\", \"\")\n",
    "df_final[\"Listing Price\"] = df_final[\"Listing Price\"].str.replace(\"$\", \"\")\n",
    "df_final[\"Listing Price\"] = df_final[\"Listing Price\"].str.replace(\",\", \"\")"
   ]
  },
  {
   "cell_type": "code",
   "execution_count": 10,
   "metadata": {},
   "outputs": [],
   "source": [
    "df_len = df_final[\"Lot_Size\"].str.split(\"x\", n = 1, expand = True)"
   ]
  },
  {
   "cell_type": "code",
   "execution_count": 11,
   "metadata": {},
   "outputs": [],
   "source": [
    "df_len = df_len.rename(columns = {0:\"Lot_Length\", 1:\"Lot_Width\"})"
   ]
  },
  {
   "cell_type": "code",
   "execution_count": 12,
   "metadata": {},
   "outputs": [],
   "source": [
    "df_final_ = pd.concat([df_final, df_len], axis = 1)"
   ]
  },
  {
   "cell_type": "code",
   "execution_count": 13,
   "metadata": {},
   "outputs": [
    {
     "data": {
      "text/html": [
       "<div>\n",
       "<style scoped>\n",
       "    .dataframe tbody tr th:only-of-type {\n",
       "        vertical-align: middle;\n",
       "    }\n",
       "\n",
       "    .dataframe tbody tr th {\n",
       "        vertical-align: top;\n",
       "    }\n",
       "\n",
       "    .dataframe thead th {\n",
       "        text-align: right;\n",
       "    }\n",
       "</style>\n",
       "<table border=\"1\" class=\"dataframe\">\n",
       "  <thead>\n",
       "    <tr style=\"text-align: right;\">\n",
       "      <th></th>\n",
       "      <th>Bedrooms</th>\n",
       "      <th>Bathrooms</th>\n",
       "      <th>House_Size</th>\n",
       "      <th>Lot_Size</th>\n",
       "      <th>Listing Price</th>\n",
       "      <th>Lot_Length</th>\n",
       "      <th>Lot_Width</th>\n",
       "    </tr>\n",
       "  </thead>\n",
       "  <tbody>\n",
       "    <tr>\n",
       "      <th>0</th>\n",
       "      <td>4</td>\n",
       "      <td>2</td>\n",
       "      <td>1916</td>\n",
       "      <td>30 x 103</td>\n",
       "      <td>1399000</td>\n",
       "      <td>30</td>\n",
       "      <td>103</td>\n",
       "    </tr>\n",
       "    <tr>\n",
       "      <th>1</th>\n",
       "      <td>6</td>\n",
       "      <td>4</td>\n",
       "      <td>1978</td>\n",
       "      <td>31 x 105</td>\n",
       "      <td>1598000</td>\n",
       "      <td>31</td>\n",
       "      <td>105</td>\n",
       "    </tr>\n",
       "    <tr>\n",
       "      <th>2</th>\n",
       "      <td>6</td>\n",
       "      <td>4</td>\n",
       "      <td>2552</td>\n",
       "      <td>42 x 118</td>\n",
       "      <td>1299000</td>\n",
       "      <td>42</td>\n",
       "      <td>118</td>\n",
       "    </tr>\n",
       "    <tr>\n",
       "      <th>3</th>\n",
       "      <td>7</td>\n",
       "      <td>4</td>\n",
       "      <td>2703</td>\n",
       "      <td>116 x 33</td>\n",
       "      <td>1799000</td>\n",
       "      <td>116</td>\n",
       "      <td>33</td>\n",
       "    </tr>\n",
       "    <tr>\n",
       "      <th>4</th>\n",
       "      <td>4</td>\n",
       "      <td>3</td>\n",
       "      <td>1979</td>\n",
       "      <td>47 x 135</td>\n",
       "      <td>2999000</td>\n",
       "      <td>47</td>\n",
       "      <td>135</td>\n",
       "    </tr>\n",
       "  </tbody>\n",
       "</table>\n",
       "</div>"
      ],
      "text/plain": [
       "  Bedrooms Bathrooms House_Size  Lot_Size Listing Price Lot_Length Lot_Width\n",
       "0        4         2       1916  30 x 103       1399000        30        103\n",
       "1        6         4       1978  31 x 105       1598000        31        105\n",
       "2        6         4       2552  42 x 118       1299000        42        118\n",
       "3        7         4       2703  116 x 33       1799000       116         33\n",
       "4        4         3       1979  47 x 135       2999000        47        135"
      ]
     },
     "execution_count": 13,
     "metadata": {},
     "output_type": "execute_result"
    }
   ],
   "source": [
    "df_final_.head()"
   ]
  },
  {
   "cell_type": "code",
   "execution_count": 14,
   "metadata": {},
   "outputs": [],
   "source": [
    "df_final_ = df_final_.drop(\"Lot_Size\", axis = 1)"
   ]
  },
  {
   "cell_type": "code",
   "execution_count": 15,
   "metadata": {},
   "outputs": [],
   "source": [
    "df_final_[\"Bedrooms\"] = pd.to_numeric(df_final_[\"Bedrooms\"])\n",
    "df_final_[\"Bathrooms\"] = pd.to_numeric(df_final_[\"Bathrooms\"])\n",
    "df_final_[\"House_Size\"] = pd.to_numeric(df_final_[\"House_Size\"])\n",
    "df_final_[\"Listing Price\"] = pd.to_numeric(df_final_[\"Listing Price\"])\n",
    "df_final_[\"Lot_Length\"] = pd.to_numeric(df_final_[\"Lot_Length\"])\n",
    "df_final_[\"Lot_Width\"] = pd.to_numeric(df_final_[\"Lot_Width\"])"
   ]
  },
  {
   "cell_type": "code",
   "execution_count": 16,
   "metadata": {},
   "outputs": [],
   "source": [
    "df_final_[\"Lot_Area\"] = df_final_[\"Lot_Length\"]*df_final_[\"Lot_Width\"]"
   ]
  },
  {
   "cell_type": "code",
   "execution_count": 17,
   "metadata": {},
   "outputs": [],
   "source": [
    "df_final_ = df_final_.drop([\"Lot_Length\", \"Lot_Width\"], axis = 1)\n",
    "df_final_[\"Lot_Area\"] = df_final_[\"Lot_Area\"].replace(0,np.nan)\n",
    "\n"
   ]
  },
  {
   "cell_type": "code",
   "execution_count": 18,
   "metadata": {},
   "outputs": [
    {
     "data": {
      "text/html": [
       "<div>\n",
       "<style scoped>\n",
       "    .dataframe tbody tr th:only-of-type {\n",
       "        vertical-align: middle;\n",
       "    }\n",
       "\n",
       "    .dataframe tbody tr th {\n",
       "        vertical-align: top;\n",
       "    }\n",
       "\n",
       "    .dataframe thead th {\n",
       "        text-align: right;\n",
       "    }\n",
       "</style>\n",
       "<table border=\"1\" class=\"dataframe\">\n",
       "  <thead>\n",
       "    <tr style=\"text-align: right;\">\n",
       "      <th></th>\n",
       "      <th>Bedrooms</th>\n",
       "      <th>Bathrooms</th>\n",
       "      <th>House_Size</th>\n",
       "      <th>Listing Price</th>\n",
       "      <th>Lot_Area</th>\n",
       "    </tr>\n",
       "  </thead>\n",
       "  <tbody>\n",
       "    <tr>\n",
       "      <th>0</th>\n",
       "      <td>4</td>\n",
       "      <td>2</td>\n",
       "      <td>1916</td>\n",
       "      <td>1399000</td>\n",
       "      <td>3090.0</td>\n",
       "    </tr>\n",
       "    <tr>\n",
       "      <th>1</th>\n",
       "      <td>6</td>\n",
       "      <td>4</td>\n",
       "      <td>1978</td>\n",
       "      <td>1598000</td>\n",
       "      <td>3255.0</td>\n",
       "    </tr>\n",
       "    <tr>\n",
       "      <th>2</th>\n",
       "      <td>6</td>\n",
       "      <td>4</td>\n",
       "      <td>2552</td>\n",
       "      <td>1299000</td>\n",
       "      <td>4956.0</td>\n",
       "    </tr>\n",
       "    <tr>\n",
       "      <th>3</th>\n",
       "      <td>7</td>\n",
       "      <td>4</td>\n",
       "      <td>2703</td>\n",
       "      <td>1799000</td>\n",
       "      <td>3828.0</td>\n",
       "    </tr>\n",
       "    <tr>\n",
       "      <th>4</th>\n",
       "      <td>4</td>\n",
       "      <td>3</td>\n",
       "      <td>1979</td>\n",
       "      <td>2999000</td>\n",
       "      <td>6345.0</td>\n",
       "    </tr>\n",
       "  </tbody>\n",
       "</table>\n",
       "</div>"
      ],
      "text/plain": [
       "   Bedrooms  Bathrooms  House_Size  Listing Price  Lot_Area\n",
       "0         4          2        1916        1399000    3090.0\n",
       "1         6          4        1978        1598000    3255.0\n",
       "2         6          4        2552        1299000    4956.0\n",
       "3         7          4        2703        1799000    3828.0\n",
       "4         4          3        1979        2999000    6345.0"
      ]
     },
     "execution_count": 18,
     "metadata": {},
     "output_type": "execute_result"
    }
   ],
   "source": [
    "df_final_.head()"
   ]
  },
  {
   "cell_type": "code",
   "execution_count": 19,
   "metadata": {},
   "outputs": [
    {
     "data": {
      "text/plain": [
       "Bedrooms           int64\n",
       "Bathrooms          int64\n",
       "House_Size         int64\n",
       "Listing Price      int64\n",
       "Lot_Area         float64\n",
       "dtype: object"
      ]
     },
     "execution_count": 19,
     "metadata": {},
     "output_type": "execute_result"
    }
   ],
   "source": [
    "df_final_.dtypes\n"
   ]
  },
  {
   "cell_type": "code",
   "execution_count": 20,
   "metadata": {},
   "outputs": [
    {
     "data": {
      "text/plain": [
       "(Bedrooms           0\n",
       " Bathrooms          0\n",
       " House_Size         0\n",
       " Listing Price      0\n",
       " Lot_Area         691\n",
       " dtype: int64, (6790, 5))"
      ]
     },
     "execution_count": 20,
     "metadata": {},
     "output_type": "execute_result"
    }
   ],
   "source": [
    "df_final_.isnull().sum(), df_final_.shape\n"
   ]
  },
  {
   "cell_type": "code",
   "execution_count": 21,
   "metadata": {},
   "outputs": [],
   "source": [
    "df_final_ = df_final_.dropna()"
   ]
  },
  {
   "cell_type": "code",
   "execution_count": 22,
   "metadata": {},
   "outputs": [
    {
     "data": {
      "text/html": [
       "<div>\n",
       "<style scoped>\n",
       "    .dataframe tbody tr th:only-of-type {\n",
       "        vertical-align: middle;\n",
       "    }\n",
       "\n",
       "    .dataframe tbody tr th {\n",
       "        vertical-align: top;\n",
       "    }\n",
       "\n",
       "    .dataframe thead th {\n",
       "        text-align: right;\n",
       "    }\n",
       "</style>\n",
       "<table border=\"1\" class=\"dataframe\">\n",
       "  <thead>\n",
       "    <tr style=\"text-align: right;\">\n",
       "      <th></th>\n",
       "      <th>Bedrooms</th>\n",
       "      <th>Bathrooms</th>\n",
       "      <th>House_Size</th>\n",
       "      <th>Listing Price</th>\n",
       "      <th>Lot_Area</th>\n",
       "    </tr>\n",
       "  </thead>\n",
       "  <tbody>\n",
       "    <tr>\n",
       "      <th>0</th>\n",
       "      <td>4</td>\n",
       "      <td>2</td>\n",
       "      <td>1916</td>\n",
       "      <td>1399000</td>\n",
       "      <td>3090.0</td>\n",
       "    </tr>\n",
       "    <tr>\n",
       "      <th>1</th>\n",
       "      <td>6</td>\n",
       "      <td>4</td>\n",
       "      <td>1978</td>\n",
       "      <td>1598000</td>\n",
       "      <td>3255.0</td>\n",
       "    </tr>\n",
       "    <tr>\n",
       "      <th>2</th>\n",
       "      <td>6</td>\n",
       "      <td>4</td>\n",
       "      <td>2552</td>\n",
       "      <td>1299000</td>\n",
       "      <td>4956.0</td>\n",
       "    </tr>\n",
       "    <tr>\n",
       "      <th>3</th>\n",
       "      <td>7</td>\n",
       "      <td>4</td>\n",
       "      <td>2703</td>\n",
       "      <td>1799000</td>\n",
       "      <td>3828.0</td>\n",
       "    </tr>\n",
       "    <tr>\n",
       "      <th>4</th>\n",
       "      <td>4</td>\n",
       "      <td>3</td>\n",
       "      <td>1979</td>\n",
       "      <td>2999000</td>\n",
       "      <td>6345.0</td>\n",
       "    </tr>\n",
       "    <tr>\n",
       "      <th>5</th>\n",
       "      <td>3</td>\n",
       "      <td>3</td>\n",
       "      <td>2688</td>\n",
       "      <td>1749000</td>\n",
       "      <td>4092.0</td>\n",
       "    </tr>\n",
       "    <tr>\n",
       "      <th>6</th>\n",
       "      <td>3</td>\n",
       "      <td>4</td>\n",
       "      <td>2734</td>\n",
       "      <td>3198000</td>\n",
       "      <td>6800.0</td>\n",
       "    </tr>\n",
       "    <tr>\n",
       "      <th>7</th>\n",
       "      <td>3</td>\n",
       "      <td>3</td>\n",
       "      <td>2511</td>\n",
       "      <td>1488000</td>\n",
       "      <td>4092.0</td>\n",
       "    </tr>\n",
       "    <tr>\n",
       "      <th>8</th>\n",
       "      <td>3</td>\n",
       "      <td>3</td>\n",
       "      <td>2291</td>\n",
       "      <td>2389000</td>\n",
       "      <td>6588.0</td>\n",
       "    </tr>\n",
       "    <tr>\n",
       "      <th>9</th>\n",
       "      <td>7</td>\n",
       "      <td>7</td>\n",
       "      <td>3120</td>\n",
       "      <td>2288000</td>\n",
       "      <td>3465.0</td>\n",
       "    </tr>\n",
       "    <tr>\n",
       "      <th>11</th>\n",
       "      <td>5</td>\n",
       "      <td>4</td>\n",
       "      <td>2405</td>\n",
       "      <td>2129000</td>\n",
       "      <td>6100.0</td>\n",
       "    </tr>\n",
       "    <tr>\n",
       "      <th>12</th>\n",
       "      <td>4</td>\n",
       "      <td>2</td>\n",
       "      <td>1790</td>\n",
       "      <td>1650000</td>\n",
       "      <td>5640.0</td>\n",
       "    </tr>\n",
       "    <tr>\n",
       "      <th>13</th>\n",
       "      <td>5</td>\n",
       "      <td>7</td>\n",
       "      <td>5056</td>\n",
       "      <td>10888000</td>\n",
       "      <td>9375.0</td>\n",
       "    </tr>\n",
       "    <tr>\n",
       "      <th>14</th>\n",
       "      <td>6</td>\n",
       "      <td>6</td>\n",
       "      <td>3420</td>\n",
       "      <td>3499000</td>\n",
       "      <td>4290.0</td>\n",
       "    </tr>\n",
       "    <tr>\n",
       "      <th>15</th>\n",
       "      <td>6</td>\n",
       "      <td>3</td>\n",
       "      <td>2895</td>\n",
       "      <td>1498000</td>\n",
       "      <td>4026.0</td>\n",
       "    </tr>\n",
       "  </tbody>\n",
       "</table>\n",
       "</div>"
      ],
      "text/plain": [
       "    Bedrooms  Bathrooms  House_Size  Listing Price  Lot_Area\n",
       "0          4          2        1916        1399000    3090.0\n",
       "1          6          4        1978        1598000    3255.0\n",
       "2          6          4        2552        1299000    4956.0\n",
       "3          7          4        2703        1799000    3828.0\n",
       "4          4          3        1979        2999000    6345.0\n",
       "5          3          3        2688        1749000    4092.0\n",
       "6          3          4        2734        3198000    6800.0\n",
       "7          3          3        2511        1488000    4092.0\n",
       "8          3          3        2291        2389000    6588.0\n",
       "9          7          7        3120        2288000    3465.0\n",
       "11         5          4        2405        2129000    6100.0\n",
       "12         4          2        1790        1650000    5640.0\n",
       "13         5          7        5056       10888000    9375.0\n",
       "14         6          6        3420        3499000    4290.0\n",
       "15         6          3        2895        1498000    4026.0"
      ]
     },
     "execution_count": 22,
     "metadata": {},
     "output_type": "execute_result"
    }
   ],
   "source": [
    "df_final_.head(15)"
   ]
  },
  {
   "cell_type": "code",
   "execution_count": 23,
   "metadata": {},
   "outputs": [
    {
     "data": {
      "text/plain": [
       "(Bedrooms         0\n",
       " Bathrooms        0\n",
       " House_Size       0\n",
       " Listing Price    0\n",
       " Lot_Area         0\n",
       " dtype: int64, (6099, 5))"
      ]
     },
     "execution_count": 23,
     "metadata": {},
     "output_type": "execute_result"
    }
   ],
   "source": [
    "df_final_.isnull().sum(), df_final_.shape"
   ]
  },
  {
   "cell_type": "code",
   "execution_count": 24,
   "metadata": {},
   "outputs": [
    {
     "data": {
      "text/html": [
       "<div>\n",
       "<style scoped>\n",
       "    .dataframe tbody tr th:only-of-type {\n",
       "        vertical-align: middle;\n",
       "    }\n",
       "\n",
       "    .dataframe tbody tr th {\n",
       "        vertical-align: top;\n",
       "    }\n",
       "\n",
       "    .dataframe thead th {\n",
       "        text-align: right;\n",
       "    }\n",
       "</style>\n",
       "<table border=\"1\" class=\"dataframe\">\n",
       "  <thead>\n",
       "    <tr style=\"text-align: right;\">\n",
       "      <th></th>\n",
       "      <th>Bedrooms</th>\n",
       "      <th>Bathrooms</th>\n",
       "      <th>House_Size</th>\n",
       "      <th>Listing Price</th>\n",
       "      <th>Lot_Area</th>\n",
       "    </tr>\n",
       "  </thead>\n",
       "  <tbody>\n",
       "    <tr>\n",
       "      <th>0</th>\n",
       "      <td>4</td>\n",
       "      <td>2</td>\n",
       "      <td>1916</td>\n",
       "      <td>1399000</td>\n",
       "      <td>3090.0</td>\n",
       "    </tr>\n",
       "    <tr>\n",
       "      <th>1</th>\n",
       "      <td>6</td>\n",
       "      <td>4</td>\n",
       "      <td>1978</td>\n",
       "      <td>1598000</td>\n",
       "      <td>3255.0</td>\n",
       "    </tr>\n",
       "    <tr>\n",
       "      <th>2</th>\n",
       "      <td>6</td>\n",
       "      <td>4</td>\n",
       "      <td>2552</td>\n",
       "      <td>1299000</td>\n",
       "      <td>4956.0</td>\n",
       "    </tr>\n",
       "    <tr>\n",
       "      <th>3</th>\n",
       "      <td>7</td>\n",
       "      <td>4</td>\n",
       "      <td>2703</td>\n",
       "      <td>1799000</td>\n",
       "      <td>3828.0</td>\n",
       "    </tr>\n",
       "    <tr>\n",
       "      <th>4</th>\n",
       "      <td>4</td>\n",
       "      <td>3</td>\n",
       "      <td>1979</td>\n",
       "      <td>2999000</td>\n",
       "      <td>6345.0</td>\n",
       "    </tr>\n",
       "  </tbody>\n",
       "</table>\n",
       "</div>"
      ],
      "text/plain": [
       "   Bedrooms  Bathrooms  House_Size  Listing Price  Lot_Area\n",
       "0         4          2        1916        1399000    3090.0\n",
       "1         6          4        1978        1598000    3255.0\n",
       "2         6          4        2552        1299000    4956.0\n",
       "3         7          4        2703        1799000    3828.0\n",
       "4         4          3        1979        2999000    6345.0"
      ]
     },
     "execution_count": 24,
     "metadata": {},
     "output_type": "execute_result"
    }
   ],
   "source": [
    "df_final_.head()"
   ]
  },
  {
   "cell_type": "code",
   "execution_count": 25,
   "metadata": {},
   "outputs": [
    {
     "data": {
      "text/html": [
       "<div>\n",
       "<style scoped>\n",
       "    .dataframe tbody tr th:only-of-type {\n",
       "        vertical-align: middle;\n",
       "    }\n",
       "\n",
       "    .dataframe tbody tr th {\n",
       "        vertical-align: top;\n",
       "    }\n",
       "\n",
       "    .dataframe thead th {\n",
       "        text-align: right;\n",
       "    }\n",
       "</style>\n",
       "<table border=\"1\" class=\"dataframe\">\n",
       "  <thead>\n",
       "    <tr style=\"text-align: right;\">\n",
       "      <th></th>\n",
       "      <th>Bedrooms</th>\n",
       "      <th>Bathrooms</th>\n",
       "      <th>House_Size</th>\n",
       "      <th>Listing Price</th>\n",
       "      <th>Lot_Area</th>\n",
       "    </tr>\n",
       "  </thead>\n",
       "  <tbody>\n",
       "    <tr>\n",
       "      <th>0</th>\n",
       "      <td>1.386294</td>\n",
       "      <td>0.693147</td>\n",
       "      <td>7.557995</td>\n",
       "      <td>1399000</td>\n",
       "      <td>8.035926</td>\n",
       "    </tr>\n",
       "    <tr>\n",
       "      <th>1</th>\n",
       "      <td>1.791759</td>\n",
       "      <td>1.386294</td>\n",
       "      <td>7.589842</td>\n",
       "      <td>1598000</td>\n",
       "      <td>8.087948</td>\n",
       "    </tr>\n",
       "    <tr>\n",
       "      <th>2</th>\n",
       "      <td>1.791759</td>\n",
       "      <td>1.386294</td>\n",
       "      <td>7.844633</td>\n",
       "      <td>1299000</td>\n",
       "      <td>8.508354</td>\n",
       "    </tr>\n",
       "    <tr>\n",
       "      <th>3</th>\n",
       "      <td>1.945910</td>\n",
       "      <td>1.386294</td>\n",
       "      <td>7.902118</td>\n",
       "      <td>1799000</td>\n",
       "      <td>8.250098</td>\n",
       "    </tr>\n",
       "    <tr>\n",
       "      <th>4</th>\n",
       "      <td>1.386294</td>\n",
       "      <td>1.098612</td>\n",
       "      <td>7.590347</td>\n",
       "      <td>2999000</td>\n",
       "      <td>8.755422</td>\n",
       "    </tr>\n",
       "  </tbody>\n",
       "</table>\n",
       "</div>"
      ],
      "text/plain": [
       "   Bedrooms  Bathrooms  House_Size  Listing Price  Lot_Area\n",
       "0  1.386294   0.693147    7.557995        1399000  8.035926\n",
       "1  1.791759   1.386294    7.589842        1598000  8.087948\n",
       "2  1.791759   1.386294    7.844633        1299000  8.508354\n",
       "3  1.945910   1.386294    7.902118        1799000  8.250098\n",
       "4  1.386294   1.098612    7.590347        2999000  8.755422"
      ]
     },
     "execution_count": 25,
     "metadata": {},
     "output_type": "execute_result"
    }
   ],
   "source": [
    "df_final_[\"Bedrooms\"] = np.log(df_final_[\"Bedrooms\"])\n",
    "df_final_[\"Bathrooms\"] = np.log(df_final_[\"Bathrooms\"])\n",
    "df_final_[\"House_Size\"] = np.log(df_final_[\"House_Size\"])\n",
    "df_final_[\"Lot_Area\"] = np.log(df_final_[\"Lot_Area\"])\n",
    "\n",
    "df_finallog = df_final_\n",
    "df_finallog.head()"
   ]
  },
  {
   "cell_type": "code",
   "execution_count": 26,
   "metadata": {},
   "outputs": [],
   "source": [
    "df_finallog = df_finallog.replace(np.inf, np.nan).replace(-np.inf, np.nan).dropna()"
   ]
  },
  {
   "cell_type": "code",
   "execution_count": 27,
   "metadata": {},
   "outputs": [
    {
     "data": {
      "text/html": [
       "<div>\n",
       "<style scoped>\n",
       "    .dataframe tbody tr th:only-of-type {\n",
       "        vertical-align: middle;\n",
       "    }\n",
       "\n",
       "    .dataframe tbody tr th {\n",
       "        vertical-align: top;\n",
       "    }\n",
       "\n",
       "    .dataframe thead th {\n",
       "        text-align: right;\n",
       "    }\n",
       "</style>\n",
       "<table border=\"1\" class=\"dataframe\">\n",
       "  <thead>\n",
       "    <tr style=\"text-align: right;\">\n",
       "      <th></th>\n",
       "      <th>Bedrooms</th>\n",
       "      <th>Bathrooms</th>\n",
       "      <th>House_Size</th>\n",
       "      <th>Listing Price</th>\n",
       "      <th>Lot_Area</th>\n",
       "    </tr>\n",
       "  </thead>\n",
       "  <tbody>\n",
       "    <tr>\n",
       "      <th>0</th>\n",
       "      <td>1.386294</td>\n",
       "      <td>0.693147</td>\n",
       "      <td>7.557995</td>\n",
       "      <td>1399000</td>\n",
       "      <td>8.035926</td>\n",
       "    </tr>\n",
       "    <tr>\n",
       "      <th>1</th>\n",
       "      <td>1.791759</td>\n",
       "      <td>1.386294</td>\n",
       "      <td>7.589842</td>\n",
       "      <td>1598000</td>\n",
       "      <td>8.087948</td>\n",
       "    </tr>\n",
       "    <tr>\n",
       "      <th>2</th>\n",
       "      <td>1.791759</td>\n",
       "      <td>1.386294</td>\n",
       "      <td>7.844633</td>\n",
       "      <td>1299000</td>\n",
       "      <td>8.508354</td>\n",
       "    </tr>\n",
       "    <tr>\n",
       "      <th>3</th>\n",
       "      <td>1.945910</td>\n",
       "      <td>1.386294</td>\n",
       "      <td>7.902118</td>\n",
       "      <td>1799000</td>\n",
       "      <td>8.250098</td>\n",
       "    </tr>\n",
       "    <tr>\n",
       "      <th>4</th>\n",
       "      <td>1.386294</td>\n",
       "      <td>1.098612</td>\n",
       "      <td>7.590347</td>\n",
       "      <td>2999000</td>\n",
       "      <td>8.755422</td>\n",
       "    </tr>\n",
       "    <tr>\n",
       "      <th>5</th>\n",
       "      <td>1.098612</td>\n",
       "      <td>1.098612</td>\n",
       "      <td>7.896553</td>\n",
       "      <td>1749000</td>\n",
       "      <td>8.316789</td>\n",
       "    </tr>\n",
       "    <tr>\n",
       "      <th>6</th>\n",
       "      <td>1.098612</td>\n",
       "      <td>1.386294</td>\n",
       "      <td>7.913521</td>\n",
       "      <td>3198000</td>\n",
       "      <td>8.824678</td>\n",
       "    </tr>\n",
       "    <tr>\n",
       "      <th>7</th>\n",
       "      <td>1.098612</td>\n",
       "      <td>1.098612</td>\n",
       "      <td>7.828436</td>\n",
       "      <td>1488000</td>\n",
       "      <td>8.316789</td>\n",
       "    </tr>\n",
       "    <tr>\n",
       "      <th>8</th>\n",
       "      <td>1.098612</td>\n",
       "      <td>1.098612</td>\n",
       "      <td>7.736744</td>\n",
       "      <td>2389000</td>\n",
       "      <td>8.793005</td>\n",
       "    </tr>\n",
       "    <tr>\n",
       "      <th>9</th>\n",
       "      <td>1.945910</td>\n",
       "      <td>1.945910</td>\n",
       "      <td>8.045588</td>\n",
       "      <td>2288000</td>\n",
       "      <td>8.150468</td>\n",
       "    </tr>\n",
       "    <tr>\n",
       "      <th>11</th>\n",
       "      <td>1.609438</td>\n",
       "      <td>1.386294</td>\n",
       "      <td>7.785305</td>\n",
       "      <td>2129000</td>\n",
       "      <td>8.716044</td>\n",
       "    </tr>\n",
       "    <tr>\n",
       "      <th>12</th>\n",
       "      <td>1.386294</td>\n",
       "      <td>0.693147</td>\n",
       "      <td>7.489971</td>\n",
       "      <td>1650000</td>\n",
       "      <td>8.637639</td>\n",
       "    </tr>\n",
       "    <tr>\n",
       "      <th>13</th>\n",
       "      <td>1.609438</td>\n",
       "      <td>1.945910</td>\n",
       "      <td>8.528331</td>\n",
       "      <td>10888000</td>\n",
       "      <td>9.145802</td>\n",
       "    </tr>\n",
       "    <tr>\n",
       "      <th>14</th>\n",
       "      <td>1.791759</td>\n",
       "      <td>1.791759</td>\n",
       "      <td>8.137396</td>\n",
       "      <td>3499000</td>\n",
       "      <td>8.364042</td>\n",
       "    </tr>\n",
       "    <tr>\n",
       "      <th>15</th>\n",
       "      <td>1.791759</td>\n",
       "      <td>1.098612</td>\n",
       "      <td>7.970740</td>\n",
       "      <td>1498000</td>\n",
       "      <td>8.300529</td>\n",
       "    </tr>\n",
       "  </tbody>\n",
       "</table>\n",
       "</div>"
      ],
      "text/plain": [
       "    Bedrooms  Bathrooms  House_Size  Listing Price  Lot_Area\n",
       "0   1.386294   0.693147    7.557995        1399000  8.035926\n",
       "1   1.791759   1.386294    7.589842        1598000  8.087948\n",
       "2   1.791759   1.386294    7.844633        1299000  8.508354\n",
       "3   1.945910   1.386294    7.902118        1799000  8.250098\n",
       "4   1.386294   1.098612    7.590347        2999000  8.755422\n",
       "5   1.098612   1.098612    7.896553        1749000  8.316789\n",
       "6   1.098612   1.386294    7.913521        3198000  8.824678\n",
       "7   1.098612   1.098612    7.828436        1488000  8.316789\n",
       "8   1.098612   1.098612    7.736744        2389000  8.793005\n",
       "9   1.945910   1.945910    8.045588        2288000  8.150468\n",
       "11  1.609438   1.386294    7.785305        2129000  8.716044\n",
       "12  1.386294   0.693147    7.489971        1650000  8.637639\n",
       "13  1.609438   1.945910    8.528331       10888000  9.145802\n",
       "14  1.791759   1.791759    8.137396        3499000  8.364042\n",
       "15  1.791759   1.098612    7.970740        1498000  8.300529"
      ]
     },
     "execution_count": 27,
     "metadata": {},
     "output_type": "execute_result"
    }
   ],
   "source": [
    "df_finallog.head(15)"
   ]
  },
  {
   "cell_type": "code",
   "execution_count": 28,
   "metadata": {},
   "outputs": [
    {
     "data": {
      "image/png": "[encoded data removed]",
      "text/plain": [
       "<Figure size 360x360 with 1 Axes>"
      ]
     },
     "metadata": {
      "needs_background": "light"
     },
     "output_type": "display_data"
    }
   ],
   "source": [
    "correlation = df_finallog.corr()\n",
    "fig, ax = plt.subplots(figsize=(5,5))\n",
    "sns.heatmap(correlation, annot=True, linewidths=.3, ax=ax, cmap='coolwarm', fmt='.2g', cbar=False, square=True)\n",
    "plt.show()"
   ]
  },
  {
   "cell_type": "code",
   "execution_count": 29,
   "metadata": {},
   "outputs": [
    {
     "data": {
      "image/png": "[encoded data removed]",
      "text/plain": [
       "<Figure size 1800x3600 with 5 Axes>"
      ]
     },
     "metadata": {
      "needs_background": "light"
     },
     "output_type": "display_data"
    }
   ],
   "source": [
    "plt.figure(figsize=(25,50))\n",
    "for i, m in enumerate(df_finallog[:-1]):\n",
    "    plt.subplot(9, 3, i+1)\n",
    "    sns.scatterplot(x = df_finallog[m], y = df_finallog[\"Listing Price\"],)\n",
    "    plt.subplots_adjust(hspace=0.5)\n",
    "    \n",
    "plt.show()"
   ]
  },
  {
   "cell_type": "code",
   "execution_count": 30,
   "metadata": {},
   "outputs": [],
   "source": [
    "Model_Train, Model_Test = train_test_split(df_finallog, test_size=0.3, random_state = 0)"
   ]
  },
  {
   "cell_type": "code",
   "execution_count": 31,
   "metadata": {},
   "outputs": [
    {
     "data": {
      "text/html": [
       "<div>\n",
       "<style scoped>\n",
       "    .dataframe tbody tr th:only-of-type {\n",
       "        vertical-align: middle;\n",
       "    }\n",
       "\n",
       "    .dataframe tbody tr th {\n",
       "        vertical-align: top;\n",
       "    }\n",
       "\n",
       "    .dataframe thead th {\n",
       "        text-align: right;\n",
       "    }\n",
       "</style>\n",
       "<table border=\"1\" class=\"dataframe\">\n",
       "  <thead>\n",
       "    <tr style=\"text-align: right;\">\n",
       "      <th></th>\n",
       "      <th>Bedrooms</th>\n",
       "      <th>Bathrooms</th>\n",
       "      <th>House_Size</th>\n",
       "      <th>Listing Price</th>\n",
       "      <th>Lot_Area</th>\n",
       "    </tr>\n",
       "  </thead>\n",
       "  <tbody>\n",
       "    <tr>\n",
       "      <th>6692</th>\n",
       "      <td>1.098612</td>\n",
       "      <td>0.000000</td>\n",
       "      <td>7.739359</td>\n",
       "      <td>2290000</td>\n",
       "      <td>8.267192</td>\n",
       "    </tr>\n",
       "    <tr>\n",
       "      <th>5606</th>\n",
       "      <td>1.609438</td>\n",
       "      <td>1.098612</td>\n",
       "      <td>7.932721</td>\n",
       "      <td>14800000</td>\n",
       "      <td>8.232706</td>\n",
       "    </tr>\n",
       "    <tr>\n",
       "      <th>4795</th>\n",
       "      <td>1.098612</td>\n",
       "      <td>0.693147</td>\n",
       "      <td>7.848934</td>\n",
       "      <td>1698000</td>\n",
       "      <td>8.962904</td>\n",
       "    </tr>\n",
       "    <tr>\n",
       "      <th>5328</th>\n",
       "      <td>1.386294</td>\n",
       "      <td>1.609438</td>\n",
       "      <td>7.806289</td>\n",
       "      <td>3588000</td>\n",
       "      <td>8.316789</td>\n",
       "    </tr>\n",
       "    <tr>\n",
       "      <th>5367</th>\n",
       "      <td>1.791759</td>\n",
       "      <td>1.098612</td>\n",
       "      <td>7.910224</td>\n",
       "      <td>14800000</td>\n",
       "      <td>8.654169</td>\n",
       "    </tr>\n",
       "  </tbody>\n",
       "</table>\n",
       "</div>"
      ],
      "text/plain": [
       "      Bedrooms  Bathrooms  House_Size  Listing Price  Lot_Area\n",
       "6692  1.098612   0.000000    7.739359        2290000  8.267192\n",
       "5606  1.609438   1.098612    7.932721       14800000  8.232706\n",
       "4795  1.098612   0.693147    7.848934        1698000  8.962904\n",
       "5328  1.386294   1.609438    7.806289        3588000  8.316789\n",
       "5367  1.791759   1.098612    7.910224       14800000  8.654169"
      ]
     },
     "execution_count": 31,
     "metadata": {},
     "output_type": "execute_result"
    }
   ],
   "source": [
    "Model_Train.head()"
   ]
  },
  {
   "cell_type": "code",
   "execution_count": 32,
   "metadata": {},
   "outputs": [
    {
     "data": {
      "text/html": [
       "<div>\n",
       "<style scoped>\n",
       "    .dataframe tbody tr th:only-of-type {\n",
       "        vertical-align: middle;\n",
       "    }\n",
       "\n",
       "    .dataframe tbody tr th {\n",
       "        vertical-align: top;\n",
       "    }\n",
       "\n",
       "    .dataframe thead th {\n",
       "        text-align: right;\n",
       "    }\n",
       "</style>\n",
       "<table border=\"1\" class=\"dataframe\">\n",
       "  <thead>\n",
       "    <tr style=\"text-align: right;\">\n",
       "      <th></th>\n",
       "      <th>Bedrooms</th>\n",
       "      <th>Bathrooms</th>\n",
       "      <th>House_Size</th>\n",
       "      <th>Listing Price</th>\n",
       "      <th>Lot_Area</th>\n",
       "    </tr>\n",
       "  </thead>\n",
       "  <tbody>\n",
       "    <tr>\n",
       "      <th>6692</th>\n",
       "      <td>1.098612</td>\n",
       "      <td>0.000000</td>\n",
       "      <td>7.739359</td>\n",
       "      <td>2290000</td>\n",
       "      <td>8.267192</td>\n",
       "    </tr>\n",
       "    <tr>\n",
       "      <th>5606</th>\n",
       "      <td>1.609438</td>\n",
       "      <td>1.098612</td>\n",
       "      <td>7.932721</td>\n",
       "      <td>14800000</td>\n",
       "      <td>8.232706</td>\n",
       "    </tr>\n",
       "    <tr>\n",
       "      <th>4795</th>\n",
       "      <td>1.098612</td>\n",
       "      <td>0.693147</td>\n",
       "      <td>7.848934</td>\n",
       "      <td>1698000</td>\n",
       "      <td>8.962904</td>\n",
       "    </tr>\n",
       "    <tr>\n",
       "      <th>5328</th>\n",
       "      <td>1.386294</td>\n",
       "      <td>1.609438</td>\n",
       "      <td>7.806289</td>\n",
       "      <td>3588000</td>\n",
       "      <td>8.316789</td>\n",
       "    </tr>\n",
       "    <tr>\n",
       "      <th>5367</th>\n",
       "      <td>1.791759</td>\n",
       "      <td>1.098612</td>\n",
       "      <td>7.910224</td>\n",
       "      <td>14800000</td>\n",
       "      <td>8.654169</td>\n",
       "    </tr>\n",
       "  </tbody>\n",
       "</table>\n",
       "</div>"
      ],
      "text/plain": [
       "      Bedrooms  Bathrooms  House_Size  Listing Price  Lot_Area\n",
       "6692  1.098612   0.000000    7.739359        2290000  8.267192\n",
       "5606  1.609438   1.098612    7.932721       14800000  8.232706\n",
       "4795  1.098612   0.693147    7.848934        1698000  8.962904\n",
       "5328  1.386294   1.609438    7.806289        3588000  8.316789\n",
       "5367  1.791759   1.098612    7.910224       14800000  8.654169"
      ]
     },
     "execution_count": 32,
     "metadata": {},
     "output_type": "execute_result"
    }
   ],
   "source": [
    "Model_Train.head()"
   ]
  },
  {
   "cell_type": "code",
   "execution_count": 33,
   "metadata": {},
   "outputs": [],
   "source": [
    "X_Data = df_finallog.drop([\"Listing Price\"], axis = 1)\n",
    "Y_Data = df_finallog[\"Listing Price\"]\n",
    "\n",
    "X_const = sm.add_constant(X_Data)\n",
    "\n",
    "X_Train = Model_Train.drop([\"Listing Price\"], axis = 1)\n",
    "Y_Train = Model_Train[[\"Listing Price\"]]\n",
    "\n",
    "X_Test = Model_Test.drop([\"Listing Price\"], axis = 1)\n",
    "Y_Test = Model_Test[[\"Listing Price\"]]"
   ]
  },
  {
   "cell_type": "code",
   "execution_count": 34,
   "metadata": {},
   "outputs": [],
   "source": [
    "ridge = Ridge()\n",
    "lasso = Lasso()\n",
    "parameters = {'alpha': [1e-8, 1e-4, 1e-3, 1e-2, 0.1, 1,2,5,10]}\n"
   ]
  },
  {
   "cell_type": "code",
   "execution_count": 35,
   "metadata": {},
   "outputs": [],
   "source": [
    "model_OLS = sm.OLS(Y_Data,X_const).fit()"
   ]
  },
  {
   "cell_type": "code",
   "execution_count": 36,
   "metadata": {},
   "outputs": [
    {
     "data": {
      "text/html": [
       "<table class=\"simpletable\">\n",
       "<caption>OLS Regression Results</caption>\n",
       "<tr>\n",
       "  <th>Dep. Variable:</th>      <td>Listing Price</td>  <th>  R-squared:         </th> <td>   0.368</td> \n",
       "</tr>\n",
       "<tr>\n",
       "  <th>Model:</th>                   <td>OLS</td>       <th>  Adj. R-squared:    </th> <td>   0.368</td> \n",
       "</tr>\n",
       "<tr>\n",
       "  <th>Method:</th>             <td>Least Squares</td>  <th>  F-statistic:       </th> <td>   882.3</td> \n",
       "</tr>\n",
       "<tr>\n",
       "  <th>Date:</th>             <td>Sat, 08 Aug 2020</td> <th>  Prob (F-statistic):</th>  <td>  0.00</td>  \n",
       "</tr>\n",
       "<tr>\n",
       "  <th>Time:</th>                 <td>17:40:43</td>     <th>  Log-Likelihood:    </th> <td> -97986.</td> \n",
       "</tr>\n",
       "<tr>\n",
       "  <th>No. Observations:</th>      <td>  6067</td>      <th>  AIC:               </th> <td>1.960e+05</td>\n",
       "</tr>\n",
       "<tr>\n",
       "  <th>Df Residuals:</th>          <td>  6062</td>      <th>  BIC:               </th> <td>1.960e+05</td>\n",
       "</tr>\n",
       "<tr>\n",
       "  <th>Df Model:</th>              <td>     4</td>      <th>                     </th>     <td> </td>    \n",
       "</tr>\n",
       "<tr>\n",
       "  <th>Covariance Type:</th>      <td>nonrobust</td>    <th>                     </th>     <td> </td>    \n",
       "</tr>\n",
       "</table>\n",
       "<table class=\"simpletable\">\n",
       "<tr>\n",
       "       <td></td>         <th>coef</th>     <th>std err</th>      <th>t</th>      <th>P>|t|</th>  <th>[0.025</th>    <th>0.975]</th>  \n",
       "</tr>\n",
       "<tr>\n",
       "  <th>const</th>      <td>-3.486e+07</td> <td> 8.97e+05</td> <td>  -38.862</td> <td> 0.000</td> <td>-3.66e+07</td> <td>-3.31e+07</td>\n",
       "</tr>\n",
       "<tr>\n",
       "  <th>Bedrooms</th>   <td>-1.096e+06</td> <td> 1.29e+05</td> <td>   -8.525</td> <td> 0.000</td> <td>-1.35e+06</td> <td>-8.44e+05</td>\n",
       "</tr>\n",
       "<tr>\n",
       "  <th>Bathrooms</th>  <td> 5.219e+05</td> <td> 1.08e+05</td> <td>    4.814</td> <td> 0.000</td> <td> 3.09e+05</td> <td> 7.34e+05</td>\n",
       "</tr>\n",
       "<tr>\n",
       "  <th>House_Size</th> <td>  3.43e+06</td> <td> 1.71e+05</td> <td>   20.010</td> <td> 0.000</td> <td> 3.09e+06</td> <td> 3.77e+06</td>\n",
       "</tr>\n",
       "<tr>\n",
       "  <th>Lot_Area</th>   <td> 1.417e+06</td> <td> 9.68e+04</td> <td>   14.635</td> <td> 0.000</td> <td> 1.23e+06</td> <td> 1.61e+06</td>\n",
       "</tr>\n",
       "</table>\n",
       "<table class=\"simpletable\">\n",
       "<tr>\n",
       "  <th>Omnibus:</th>       <td>5925.116</td> <th>  Durbin-Watson:     </th>  <td>   2.057</td> \n",
       "</tr>\n",
       "<tr>\n",
       "  <th>Prob(Omnibus):</th>  <td> 0.000</td>  <th>  Jarque-Bera (JB):  </th> <td>329287.129</td>\n",
       "</tr>\n",
       "<tr>\n",
       "  <th>Skew:</th>           <td> 4.749</td>  <th>  Prob(JB):          </th>  <td>    0.00</td> \n",
       "</tr>\n",
       "<tr>\n",
       "  <th>Kurtosis:</th>       <td>37.819</td>  <th>  Cond. No.          </th>  <td>    338.</td> \n",
       "</tr>\n",
       "</table><br/><br/>Warnings:<br/>[1] Standard Errors assume that the covariance matrix of the errors is correctly specified."
      ],
      "text/plain": [
       "<class 'statsmodels.iolib.summary.Summary'>\n",
       "\"\"\"\n",
       "                            OLS Regression Results                            \n",
       "==============================================================================\n",
       "Dep. Variable:          Listing Price   R-squared:                       0.368\n",
       "Model:                            OLS   Adj. R-squared:                  0.368\n",
       "Method:                 Least Squares   F-statistic:                     882.3\n",
       "Date:                Sat, 08 Aug 2020   Prob (F-statistic):               0.00\n",
       "Time:                        17:40:43   Log-Likelihood:                -97986.\n",
       "No. Observations:                6067   AIC:                         1.960e+05\n",
       "Df Residuals:                    6062   BIC:                         1.960e+05\n",
       "Df Model:                           4                                         \n",
       "Covariance Type:            nonrobust                                         \n",
       "==============================================================================\n",
       "                 coef    std err          t      P>|t|      [0.025      0.975]\n",
       "------------------------------------------------------------------------------\n",
       "const      -3.486e+07   8.97e+05    -38.862      0.000   -3.66e+07   -3.31e+07\n",
       "Bedrooms   -1.096e+06   1.29e+05     -8.525      0.000   -1.35e+06   -8.44e+05\n",
       "Bathrooms   5.219e+05   1.08e+05      4.814      0.000    3.09e+05    7.34e+05\n",
       "House_Size   3.43e+06   1.71e+05     20.010      0.000    3.09e+06    3.77e+06\n",
       "Lot_Area    1.417e+06   9.68e+04     14.635      0.000    1.23e+06    1.61e+06\n",
       "==============================================================================\n",
       "Omnibus:                     5925.116   Durbin-Watson:                   2.057\n",
       "Prob(Omnibus):                  0.000   Jarque-Bera (JB):           329287.129\n",
       "Skew:                           4.749   Prob(JB):                         0.00\n",
       "Kurtosis:                      37.819   Cond. No.                         338.\n",
       "==============================================================================\n",
       "\n",
       "Warnings:\n",
       "[1] Standard Errors assume that the covariance matrix of the errors is correctly specified.\n",
       "\"\"\""
      ]
     },
     "execution_count": 36,
     "metadata": {},
     "output_type": "execute_result"
    }
   ],
   "source": [
    "model_OLS.summary()"
   ]
  },
  {
   "cell_type": "code",
   "execution_count": 37,
   "metadata": {},
   "outputs": [],
   "source": [
    "ridge_regressor = GridSearchCV(ridge, parameters, scoring = 'neg_mean_squared_error', cv = 5)"
   ]
  },
  {
   "cell_type": "code",
   "execution_count": 38,
   "metadata": {},
   "outputs": [
    {
     "data": {
      "text/plain": [
       "GridSearchCV(cv=5, estimator=Ridge(),\n",
       "             param_grid={'alpha': [1e-08, 0.0001, 0.001, 0.01, 0.1, 1, 2, 5,\n",
       "                                   10]},\n",
       "             scoring='neg_mean_squared_error')"
      ]
     },
     "execution_count": 38,
     "metadata": {},
     "output_type": "execute_result"
    }
   ],
   "source": [
    "ridge_regressor.fit(X_Train, Y_Train)"
   ]
  },
  {
   "cell_type": "code",
   "execution_count": 39,
   "metadata": {},
   "outputs": [
    {
     "name": "stdout",
     "output_type": "stream",
     "text": [
      "{'alpha': 10}\n"
     ]
    }
   ],
   "source": [
    "print(ridge_regressor.best_params_)"
   ]
  },
  {
   "cell_type": "code",
   "execution_count": 40,
   "metadata": {},
   "outputs": [],
   "source": [
    "lasso_regressor = GridSearchCV(lasso, parameters, scoring = 'neg_mean_squared_error', cv = 5)"
   ]
  },
  {
   "cell_type": "code",
   "execution_count": 41,
   "metadata": {},
   "outputs": [
    {
     "data": {
      "text/plain": [
       "GridSearchCV(cv=5, estimator=Lasso(),\n",
       "             param_grid={'alpha': [1e-08, 0.0001, 0.001, 0.01, 0.1, 1, 2, 5,\n",
       "                                   10]},\n",
       "             scoring='neg_mean_squared_error')"
      ]
     },
     "execution_count": 41,
     "metadata": {},
     "output_type": "execute_result"
    }
   ],
   "source": [
    "lasso_regressor.fit(X_Train, Y_Train)"
   ]
  },
  {
   "cell_type": "code",
   "execution_count": 42,
   "metadata": {},
   "outputs": [
    {
     "name": "stdout",
     "output_type": "stream",
     "text": [
      "{'alpha': 10}\n"
     ]
    }
   ],
   "source": [
    "print(lasso_regressor.best_params_)"
   ]
  },
  {
   "cell_type": "code",
   "execution_count": 43,
   "metadata": {},
   "outputs": [
    {
     "name": "stdout",
     "output_type": "stream",
     "text": [
      "Ridge Regression RMSE:  2566420.1919849226\n"
     ]
    }
   ],
   "source": [
    "Y_Predict_Ridge = ridge_regressor.predict(X_Test)\n",
    "print(\"Ridge Regression RMSE: \", np.sqrt(metrics.mean_squared_error(Y_Test,Y_Predict_Ridge)))"
   ]
  },
  {
   "cell_type": "code",
   "execution_count": 44,
   "metadata": {},
   "outputs": [
    {
     "name": "stdout",
     "output_type": "stream",
     "text": [
      "Lasso Regression RMSE:  2565150.566280972\n"
     ]
    }
   ],
   "source": [
    "Y_Predict_Lasso = lasso_regressor.predict(X_Test)\n",
    "print(\"Lasso Regression RMSE: \",np.sqrt(metrics.mean_squared_error(Y_Test, Y_Predict_Lasso)))"
   ]
  },
  {
   "cell_type": "code",
   "execution_count": 45,
   "metadata": {},
   "outputs": [],
   "source": [
    "X_toPredict = [[6,5,2884,5230],[3,4,1979,6376]]\n",
    "X_toPredict = pd.DataFrame(X_toPredict, columns = X_Test.columns)"
   ]
  },
  {
   "cell_type": "code",
   "execution_count": 46,
   "metadata": {},
   "outputs": [
    {
     "data": {
      "text/html": [
       "<div>\n",
       "<style scoped>\n",
       "    .dataframe tbody tr th:only-of-type {\n",
       "        vertical-align: middle;\n",
       "    }\n",
       "\n",
       "    .dataframe tbody tr th {\n",
       "        vertical-align: top;\n",
       "    }\n",
       "\n",
       "    .dataframe thead th {\n",
       "        text-align: right;\n",
       "    }\n",
       "</style>\n",
       "<table border=\"1\" class=\"dataframe\">\n",
       "  <thead>\n",
       "    <tr style=\"text-align: right;\">\n",
       "      <th></th>\n",
       "      <th>Bedrooms</th>\n",
       "      <th>Bathrooms</th>\n",
       "      <th>House_Size</th>\n",
       "      <th>Lot_Area</th>\n",
       "    </tr>\n",
       "  </thead>\n",
       "  <tbody>\n",
       "    <tr>\n",
       "      <th>0</th>\n",
       "      <td>6</td>\n",
       "      <td>5</td>\n",
       "      <td>2884</td>\n",
       "      <td>5230</td>\n",
       "    </tr>\n",
       "    <tr>\n",
       "      <th>1</th>\n",
       "      <td>3</td>\n",
       "      <td>4</td>\n",
       "      <td>1979</td>\n",
       "      <td>6376</td>\n",
       "    </tr>\n",
       "  </tbody>\n",
       "</table>\n",
       "</div>"
      ],
      "text/plain": [
       "   Bedrooms  Bathrooms  House_Size  Lot_Area\n",
       "0         6          5        2884      5230\n",
       "1         3          4        1979      6376"
      ]
     },
     "execution_count": 46,
     "metadata": {},
     "output_type": "execute_result"
    }
   ],
   "source": [
    "X_toPredict"
   ]
  },
  {
   "cell_type": "code",
   "execution_count": 47,
   "metadata": {},
   "outputs": [],
   "source": [
    "Y_Predicted_Ridge = lasso_regressor.predict(X_toPredict)\n"
   ]
  },
  {
   "cell_type": "code",
   "execution_count": 48,
   "metadata": {},
   "outputs": [],
   "source": [
    "Y_Predicted_Ridge = pd.DataFrame(Y_Predicted_Ridge)"
   ]
  },
  {
   "cell_type": "code",
   "execution_count": 49,
   "metadata": {},
   "outputs": [],
   "source": [
    "Y_Predicted_Ridge = Y_Predicted_Ridge.rename({0:\"INput Data\", 1:\"Sue Gibson\"})\n",
    "Y_Predicted_Ridge = Y_Predicted_Ridge.rename(columns = {0:\"Predicted Values\"})"
   ]
  },
  {
   "cell_type": "code",
   "execution_count": 50,
   "metadata": {},
   "outputs": [
    {
     "data": {
      "text/html": [
       "<div>\n",
       "<style scoped>\n",
       "    .dataframe tbody tr th:only-of-type {\n",
       "        vertical-align: middle;\n",
       "    }\n",
       "\n",
       "    .dataframe tbody tr th {\n",
       "        vertical-align: top;\n",
       "    }\n",
       "\n",
       "    .dataframe thead th {\n",
       "        text-align: right;\n",
       "    }\n",
       "</style>\n",
       "<table border=\"1\" class=\"dataframe\">\n",
       "  <thead>\n",
       "    <tr style=\"text-align: right;\">\n",
       "      <th></th>\n",
       "      <th>Predicted Values</th>\n",
       "    </tr>\n",
       "  </thead>\n",
       "  <tbody>\n",
       "    <tr>\n",
       "      <th>INput Data</th>\n",
       "      <td>1.724923e+10</td>\n",
       "    </tr>\n",
       "    <tr>\n",
       "      <th>Sue Gibson</th>\n",
       "      <td>1.611917e+10</td>\n",
       "    </tr>\n",
       "  </tbody>\n",
       "</table>\n",
       "</div>"
      ],
      "text/plain": [
       "            Predicted Values\n",
       "INput Data      1.724923e+10\n",
       "Sue Gibson      1.611917e+10"
      ]
     },
     "execution_count": 50,
     "metadata": {},
     "output_type": "execute_result"
    }
   ],
   "source": [
    "Y_Predicted_Ridge"
   ]
  }
 ],
 "metadata": {
  "kernelspec": {
   "display_name": "Python 3.7 (tensorflow)",
   "language": "python",
   "name": "tensorflow"
  },
  "language_info": {
   "codemirror_mode": {
    "name": "ipython",
    "version": 3
   },
   "file_extension": ".py",
   "mimetype": "text/x-python",
   "name": "python",
   "nbconvert_exporter": "python",
   "pygments_lexer": "ipython3",
   "version": "3.7.4"
  }
 },
 "nbformat": 4,
 "nbformat_minor": 2
}
